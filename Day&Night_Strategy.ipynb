{
 "cells": [
  {
   "cell_type": "code",
   "execution_count": 1,
   "id": "eb43c7c2",
   "metadata": {},
   "outputs": [],
   "source": [
    "#Importing neccssary modules. yfinance allows us to download and use stock market data from yahoo Finance.\n",
    "import pandas as pd\n",
    "import numpy as np\n",
    "import datetime\n",
    "import yfinance as yf\n",
    "import seaborn as sns\n",
    "%matplotlib inline\n",
    "import matplotlib.pyplot as plt"
   ]
  },
  {
   "cell_type": "code",
   "execution_count": 2,
   "id": "15c57e62",
   "metadata": {},
   "outputs": [
    {
     "name": "stdout",
     "output_type": "stream",
     "text": [
      "Enter Amount to Invest($)10000\n",
      "Enter Start Date of Investment(DD-MM-YYYY) 13-01-2021\n"
     ]
    }
   ],
   "source": [
    "#Enter the total investment amount and the start date. Inputs given are 10,000 starting from 13-01-2021 till today.\n",
    "Amount = int(input('Enter Amount to Invest($)'))\n",
    "start = input('Enter Start Date of Investment(DD-MM-YYYY) ').split('-')\n",
    "start_date = datetime.date(int(start[2]), int(start[1]), int(start[0]))\n",
    "end_date = datetime.datetime.today()"
   ]
  },
  {
   "cell_type": "code",
   "execution_count": 3,
   "id": "2f1c20ec",
   "metadata": {},
   "outputs": [
    {
     "name": "stdout",
     "output_type": "stream",
     "text": [
      "2021-01-13 2022-01-15 16:11:34.629595\n"
     ]
    }
   ],
   "source": [
    "print(start_date,end_date)"
   ]
  },
  {
   "cell_type": "code",
   "execution_count": 4,
   "id": "d9247246",
   "metadata": {},
   "outputs": [
    {
     "name": "stdout",
     "output_type": "stream",
     "text": [
      "[*********************100%***********************]  1 of 1 completed\n",
      "[*********************100%***********************]  1 of 1 completed\n"
     ]
    }
   ],
   "source": [
    "#Downloading Amazon and Apple dataset from Yahoo Finance API\n",
    "Amazon_data = yf.download('AMZN', start= start_date, end= end_date)\n",
    "Apple_data = yf.download('AAPL', start= start_date, end= end_date)"
   ]
  },
  {
   "cell_type": "code",
   "execution_count": 5,
   "id": "3909f453",
   "metadata": {},
   "outputs": [
    {
     "data": {
      "text/html": [
       "<div>\n",
       "<style scoped>\n",
       "    .dataframe tbody tr th:only-of-type {\n",
       "        vertical-align: middle;\n",
       "    }\n",
       "\n",
       "    .dataframe tbody tr th {\n",
       "        vertical-align: top;\n",
       "    }\n",
       "\n",
       "    .dataframe thead th {\n",
       "        text-align: right;\n",
       "    }\n",
       "</style>\n",
       "<table border=\"1\" class=\"dataframe\">\n",
       "  <thead>\n",
       "    <tr style=\"text-align: right;\">\n",
       "      <th></th>\n",
       "      <th>Open</th>\n",
       "      <th>High</th>\n",
       "      <th>Low</th>\n",
       "      <th>Close</th>\n",
       "      <th>Adj Close</th>\n",
       "      <th>Volume</th>\n",
       "    </tr>\n",
       "    <tr>\n",
       "      <th>Date</th>\n",
       "      <th></th>\n",
       "      <th></th>\n",
       "      <th></th>\n",
       "      <th></th>\n",
       "      <th></th>\n",
       "      <th></th>\n",
       "    </tr>\n",
       "  </thead>\n",
       "  <tbody>\n",
       "    <tr>\n",
       "      <th>2021-01-12</th>\n",
       "      <td>3120.000000</td>\n",
       "      <td>3142.139893</td>\n",
       "      <td>3086.000000</td>\n",
       "      <td>3120.830078</td>\n",
       "      <td>3120.830078</td>\n",
       "      <td>3514600</td>\n",
       "    </tr>\n",
       "    <tr>\n",
       "      <th>2021-01-13</th>\n",
       "      <td>3128.439941</td>\n",
       "      <td>3189.949951</td>\n",
       "      <td>3122.080078</td>\n",
       "      <td>3165.889893</td>\n",
       "      <td>3165.889893</td>\n",
       "      <td>3321200</td>\n",
       "    </tr>\n",
       "    <tr>\n",
       "      <th>2021-01-14</th>\n",
       "      <td>3167.520020</td>\n",
       "      <td>3178.000000</td>\n",
       "      <td>3120.590088</td>\n",
       "      <td>3127.469971</td>\n",
       "      <td>3127.469971</td>\n",
       "      <td>3070900</td>\n",
       "    </tr>\n",
       "    <tr>\n",
       "      <th>2021-01-15</th>\n",
       "      <td>3123.020020</td>\n",
       "      <td>3142.550049</td>\n",
       "      <td>3095.169922</td>\n",
       "      <td>3104.250000</td>\n",
       "      <td>3104.250000</td>\n",
       "      <td>4244000</td>\n",
       "    </tr>\n",
       "    <tr>\n",
       "      <th>2021-01-19</th>\n",
       "      <td>3107.000000</td>\n",
       "      <td>3145.000000</td>\n",
       "      <td>3096.000000</td>\n",
       "      <td>3120.760010</td>\n",
       "      <td>3120.760010</td>\n",
       "      <td>3305100</td>\n",
       "    </tr>\n",
       "  </tbody>\n",
       "</table>\n",
       "</div>"
      ],
      "text/plain": [
       "                   Open         High          Low        Close    Adj Close  \\\n",
       "Date                                                                          \n",
       "2021-01-12  3120.000000  3142.139893  3086.000000  3120.830078  3120.830078   \n",
       "2021-01-13  3128.439941  3189.949951  3122.080078  3165.889893  3165.889893   \n",
       "2021-01-14  3167.520020  3178.000000  3120.590088  3127.469971  3127.469971   \n",
       "2021-01-15  3123.020020  3142.550049  3095.169922  3104.250000  3104.250000   \n",
       "2021-01-19  3107.000000  3145.000000  3096.000000  3120.760010  3120.760010   \n",
       "\n",
       "             Volume  \n",
       "Date                 \n",
       "2021-01-12  3514600  \n",
       "2021-01-13  3321200  \n",
       "2021-01-14  3070900  \n",
       "2021-01-15  4244000  \n",
       "2021-01-19  3305100  "
      ]
     },
     "execution_count": 5,
     "metadata": {},
     "output_type": "execute_result"
    }
   ],
   "source": [
    "Amazon_data.head()"
   ]
  },
  {
   "cell_type": "code",
   "execution_count": 6,
   "id": "f009e093",
   "metadata": {},
   "outputs": [],
   "source": [
    "#Reseting the index.\n",
    "amzn = pd.DataFrame(Amazon_data)\n",
    "aapl = pd.DataFrame(Apple_data)\n",
    "amzn.reset_index(inplace=True)\n",
    "aapl.reset_index(inplace=True)"
   ]
  },
  {
   "cell_type": "code",
   "execution_count": 7,
   "id": "005a971d",
   "metadata": {},
   "outputs": [],
   "source": [
    "#Dropping other coloumns.We just need open and close column.\n",
    "amzn.drop(['High','Low','Adj Close', 'Volume'],axis=1,inplace=True)\n",
    "aapl.drop(['High','Low','Adj Close', 'Volume'],axis=1,inplace=True)"
   ]
  },
  {
   "cell_type": "code",
   "execution_count": 8,
   "id": "955c5196",
   "metadata": {},
   "outputs": [],
   "source": [
    "#Calculating overnight return % by taking (current Open price - Close price(previous day))/Close price * 100\n",
    "#shift function shifts the ethire columns by a amount specified.\n",
    "amzn['Overnight Return %'] = ((amzn['Open'].shift(-1) - amzn['Close']).shift(1)/amzn['Close'])*100\n",
    "aapl['Overnight Return %'] = ((aapl['Open'].shift(-1) - aapl['Close']).shift(1)/aapl['Close'])*100 "
   ]
  },
  {
   "cell_type": "code",
   "execution_count": 9,
   "id": "6279f94a",
   "metadata": {},
   "outputs": [
    {
     "data": {
      "text/html": [
       "<div>\n",
       "<style scoped>\n",
       "    .dataframe tbody tr th:only-of-type {\n",
       "        vertical-align: middle;\n",
       "    }\n",
       "\n",
       "    .dataframe tbody tr th {\n",
       "        vertical-align: top;\n",
       "    }\n",
       "\n",
       "    .dataframe thead th {\n",
       "        text-align: right;\n",
       "    }\n",
       "</style>\n",
       "<table border=\"1\" class=\"dataframe\">\n",
       "  <thead>\n",
       "    <tr style=\"text-align: right;\">\n",
       "      <th></th>\n",
       "      <th>Date</th>\n",
       "      <th>Open</th>\n",
       "      <th>Close</th>\n",
       "      <th>Overnight Return %</th>\n",
       "    </tr>\n",
       "  </thead>\n",
       "  <tbody>\n",
       "    <tr>\n",
       "      <th>0</th>\n",
       "      <td>2021-01-12</td>\n",
       "      <td>3120.000000</td>\n",
       "      <td>3120.830078</td>\n",
       "      <td>NaN</td>\n",
       "    </tr>\n",
       "    <tr>\n",
       "      <th>1</th>\n",
       "      <td>2021-01-13</td>\n",
       "      <td>3128.439941</td>\n",
       "      <td>3165.889893</td>\n",
       "      <td>0.240370</td>\n",
       "    </tr>\n",
       "    <tr>\n",
       "      <th>2</th>\n",
       "      <td>2021-01-14</td>\n",
       "      <td>3167.520020</td>\n",
       "      <td>3127.469971</td>\n",
       "      <td>0.052123</td>\n",
       "    </tr>\n",
       "    <tr>\n",
       "      <th>3</th>\n",
       "      <td>2021-01-15</td>\n",
       "      <td>3123.020020</td>\n",
       "      <td>3104.250000</td>\n",
       "      <td>-0.143350</td>\n",
       "    </tr>\n",
       "    <tr>\n",
       "      <th>4</th>\n",
       "      <td>2021-01-19</td>\n",
       "      <td>3107.000000</td>\n",
       "      <td>3120.760010</td>\n",
       "      <td>0.088120</td>\n",
       "    </tr>\n",
       "    <tr>\n",
       "      <th>...</th>\n",
       "      <td>...</td>\n",
       "      <td>...</td>\n",
       "      <td>...</td>\n",
       "      <td>...</td>\n",
       "    </tr>\n",
       "    <tr>\n",
       "      <th>251</th>\n",
       "      <td>2022-01-10</td>\n",
       "      <td>3211.709961</td>\n",
       "      <td>3229.719971</td>\n",
       "      <td>-1.218995</td>\n",
       "    </tr>\n",
       "    <tr>\n",
       "      <th>252</th>\n",
       "      <td>2022-01-11</td>\n",
       "      <td>3230.000000</td>\n",
       "      <td>3307.239990</td>\n",
       "      <td>0.008467</td>\n",
       "    </tr>\n",
       "    <tr>\n",
       "      <th>253</th>\n",
       "      <td>2022-01-12</td>\n",
       "      <td>3331.500000</td>\n",
       "      <td>3304.139893</td>\n",
       "      <td>0.734231</td>\n",
       "    </tr>\n",
       "    <tr>\n",
       "      <th>254</th>\n",
       "      <td>2022-01-13</td>\n",
       "      <td>3305.010010</td>\n",
       "      <td>3224.280029</td>\n",
       "      <td>0.026986</td>\n",
       "    </tr>\n",
       "    <tr>\n",
       "      <th>255</th>\n",
       "      <td>2022-01-14</td>\n",
       "      <td>3203.000000</td>\n",
       "      <td>3242.760010</td>\n",
       "      <td>-0.656232</td>\n",
       "    </tr>\n",
       "  </tbody>\n",
       "</table>\n",
       "<p>256 rows × 4 columns</p>\n",
       "</div>"
      ],
      "text/plain": [
       "          Date         Open        Close  Overnight Return %\n",
       "0   2021-01-12  3120.000000  3120.830078                 NaN\n",
       "1   2021-01-13  3128.439941  3165.889893            0.240370\n",
       "2   2021-01-14  3167.520020  3127.469971            0.052123\n",
       "3   2021-01-15  3123.020020  3104.250000           -0.143350\n",
       "4   2021-01-19  3107.000000  3120.760010            0.088120\n",
       "..         ...          ...          ...                 ...\n",
       "251 2022-01-10  3211.709961  3229.719971           -1.218995\n",
       "252 2022-01-11  3230.000000  3307.239990            0.008467\n",
       "253 2022-01-12  3331.500000  3304.139893            0.734231\n",
       "254 2022-01-13  3305.010010  3224.280029            0.026986\n",
       "255 2022-01-14  3203.000000  3242.760010           -0.656232\n",
       "\n",
       "[256 rows x 4 columns]"
      ]
     },
     "execution_count": 9,
     "metadata": {},
     "output_type": "execute_result"
    }
   ],
   "source": [
    "amzn"
   ]
  },
  {
   "cell_type": "code",
   "execution_count": 10,
   "id": "9ca9532b",
   "metadata": {},
   "outputs": [
    {
     "name": "stdout",
     "output_type": "stream",
     "text": [
      "Date                  0\n",
      "Open                  0\n",
      "Close                 0\n",
      "Overnight Return %    1\n",
      "dtype: int64\n",
      "Date                  0\n",
      "Open                  0\n",
      "Close                 0\n",
      "Overnight Return %    1\n",
      "dtype: int64\n"
     ]
    }
   ],
   "source": [
    "#Checking for null values. Only one null vaue in both the data set.\n",
    "print(aapl.isnull().sum())\n",
    "print(amzn.isnull().sum())\n",
    "#Filling null values with zero\n",
    "amzn['Overnight Return %'] = amzn['Overnight Return %'].fillna(0)\n",
    "aapl['Overnight Return %'] = aapl['Overnight Return %'].fillna(0)"
   ]
  },
  {
   "cell_type": "code",
   "execution_count": 11,
   "id": "f2ebfb2e",
   "metadata": {},
   "outputs": [
    {
     "name": "stdout",
     "output_type": "stream",
     "text": [
      "Total P&L % using overnight strategy after 30 days : 2.517\n",
      "Total P&L % using Long Hold Strategy after 30 days : 1.267\n",
      "Total P&L % using overnight strategy after 90 days : 18.568\n",
      "Total P&L % using Long Hold Strategy after 90 days : 4.092\n",
      "Total P&L % using overnight strategy after 180 days : 32.053\n",
      "Total P&L % using Long Hold Strategy after 180 days : 6.281\n",
      "Total P&L % using overnight strategy after 256 days : 48.975\n",
      "Total P&L % using Long Hold Strategy after 256 days : 3.935\n"
     ]
    }
   ],
   "source": [
    "#Checking the return of two strategies in time periods of 1 month, 3month ,6month and 1 year.\n",
    "#Amazon_overnight stores the return values using day and night strategy. \n",
    "#Amazon_long stores the return values using Long hold strategy.\n",
    "amzn_profit=0\n",
    "Amazon_overnight=[]\n",
    "Amazon_long=[]\n",
    "for n in [30,90,180,len(amzn)]:\n",
    "    for i in range(1,n):\n",
    "        amzn_pnl =  (amzn['Overnight Return %'][i]/100)*Amount\n",
    "        amzn_profit = amzn_profit + amzn_pnl\n",
    "        \n",
    "    overnight_pnl=((amzn_profit/Amount)*100).round(3)\n",
    "    Amazon_overnight.append(overnight_pnl)\n",
    "    print('Total P&L % using overnight strategy after',n,'days :',overnight_pnl)\n",
    "    \n",
    "    Long_hold_profit=((amzn['Close'][n-1]-amzn['Open'][0])/amzn['Open'][0])*Amount\n",
    "    Long_hold_pnl=((Long_hold_profit/Amount)*100).round(3)\n",
    "    Amazon_long.append(Long_hold_pnl)\n",
    "    print(\"Total P&L % using Long Hold Strategy after\",n,\"days :\", Long_hold_pnl)\n",
    "    "
   ]
  },
  {
   "cell_type": "code",
   "execution_count": 12,
   "id": "a8234547",
   "metadata": {},
   "outputs": [
    {
     "name": "stdout",
     "output_type": "stream",
     "text": [
      "Total P&L % using overnight strategy after 30 days : 0.391\n",
      "Total P&L % using Long Hold Strategy after 30 days : -2.451\n",
      "Total P&L % using overnight strategy after 90 days : 8.106\n",
      "Total P&L % using Long Hold Strategy after 90 days : -0.926\n",
      "Total P&L % using overnight strategy after 180 days : 17.519\n",
      "Total P&L % using Long Hold Strategy after 180 days : 10.436\n",
      "Total P&L % using overnight strategy after 256 days : 26.349\n",
      "Total P&L % using Long Hold Strategy after 256 days : 34.685\n"
     ]
    }
   ],
   "source": [
    "#Apple_overnight stores the return values using day and night strategy. \n",
    "#Apple_long stores the return values using Long hold strategy.\n",
    "aapl_profit=0\n",
    "Apple_overnight=[]\n",
    "Apple_long=[]\n",
    "\n",
    "for n in [30,90,180,len(aapl)]:\n",
    "    for i in range(1,n):\n",
    "        aapl_pnl =  (aapl['Overnight Return %'][i]/100)*Amount\n",
    "        aapl_profit = aapl_profit + aapl_pnl\n",
    "        \n",
    "    overnight_pnl=((aapl_profit/Amount)*100).round(3)\n",
    "    Apple_overnight.append(overnight_pnl)\n",
    "    print('Total P&L % using overnight strategy after',n,'days :', overnight_pnl)\n",
    "    \n",
    "    Long_hold_profit=((aapl['Close'][n-1]-aapl['Open'][0])/aapl['Open'][0])*Amount\n",
    "    Long_hold_pnl=((Long_hold_profit/Amount)*100).round(3)\n",
    "    Apple_long.append(Long_hold_pnl)\n",
    "    print(\"Total P&L % using Long Hold Strategy after\",n,\"days :\", Long_hold_pnl)"
   ]
  },
  {
   "cell_type": "code",
   "execution_count": 13,
   "id": "0ae776ac",
   "metadata": {},
   "outputs": [],
   "source": [
    "#combining all the array into numpy array\n",
    "A=np.array([Amazon_overnight,Amazon_long,Apple_overnight,Apple_long])"
   ]
  },
  {
   "cell_type": "code",
   "execution_count": 14,
   "id": "49e26f03",
   "metadata": {},
   "outputs": [],
   "source": [
    "#Converting numpy array to pandas Dataframe\n",
    "D=pd.DataFrame(data=A.transpose(), index=['1 month','3 month','6 month','1 year'], \n",
    "               columns = ['Day & Night Strategy - Amazon','Long hold Strategy - Amazon',\n",
    "                                                            'Day & Night Strategy - Apple','Long hold strategy - Apple'])"
   ]
  },
  {
   "cell_type": "code",
   "execution_count": 15,
   "id": "1d958e52",
   "metadata": {},
   "outputs": [
    {
     "name": "stdout",
     "output_type": "stream",
     "text": [
      "         Day & Night Strategy - Amazon  Long hold Strategy - Amazon  \\\n",
      "1 month                          2.517                        1.267   \n",
      "3 month                         18.568                        4.092   \n",
      "6 month                         32.053                        6.281   \n",
      "1 year                          48.975                        3.935   \n",
      "\n",
      "         Day & Night Strategy - Apple  Long hold strategy - Apple  \n",
      "1 month                         0.391                      -2.451  \n",
      "3 month                         8.106                      -0.926  \n",
      "6 month                        17.519                      10.436  \n",
      "1 year                         26.349                      34.685  \n"
     ]
    }
   ],
   "source": [
    "print(D)"
   ]
  },
  {
   "cell_type": "code",
   "execution_count": 16,
   "id": "7b33d9de",
   "metadata": {},
   "outputs": [
    {
     "data": {
      "text/plain": [
       "<AxesSubplot:>"
      ]
     },
     "execution_count": 16,
     "metadata": {},
     "output_type": "execute_result"
    },
    {
     "data": {
      "image/png": "[encoded data removed]",
      "text/plain": [
       "<Figure size 720x576 with 1 Axes>"
      ]
     },
     "metadata": {
      "needs_background": "light"
     },
     "output_type": "display_data"
    }
   ],
   "source": [
    "#plotting to get a better visualization\n",
    "plt.figure(figsize=(10,8))\n",
    "sns.lineplot(data=D)"
   ]
  },
  {
   "cell_type": "markdown",
   "id": "773f1d41",
   "metadata": {},
   "source": [
    "Calculate sharpe value"
   ]
  },
  {
   "cell_type": "code",
   "execution_count": 17,
   "id": "bebb570a",
   "metadata": {},
   "outputs": [],
   "source": [
    "# Taking Adj close values of each day and subracting it with the prior value to obtain the daily return.\n",
    "#pct_change calculates the percentage change between the current and a prior element\n",
    "Amazon_data['Daily Return'] = Amazon_data['Adj Close'].pct_change()\n",
    "Apple_data['Daily Return'] = Apple_data['Adj Close'].pct_change()\n",
    "# dropping null values\n",
    "Amazon_data=Amazon_data.dropna()\n",
    "Apple_data=Apple_data.dropna()"
   ]
  },
  {
   "cell_type": "code",
   "execution_count": 18,
   "id": "7dafa6f6",
   "metadata": {},
   "outputs": [
    {
     "data": {
      "text/html": [
       "<div>\n",
       "<style scoped>\n",
       "    .dataframe tbody tr th:only-of-type {\n",
       "        vertical-align: middle;\n",
       "    }\n",
       "\n",
       "    .dataframe tbody tr th {\n",
       "        vertical-align: top;\n",
       "    }\n",
       "\n",
       "    .dataframe thead th {\n",
       "        text-align: right;\n",
       "    }\n",
       "</style>\n",
       "<table border=\"1\" class=\"dataframe\">\n",
       "  <thead>\n",
       "    <tr style=\"text-align: right;\">\n",
       "      <th></th>\n",
       "      <th>Date</th>\n",
       "      <th>Open</th>\n",
       "      <th>High</th>\n",
       "      <th>Low</th>\n",
       "      <th>Close</th>\n",
       "      <th>Adj Close</th>\n",
       "      <th>Volume</th>\n",
       "      <th>Daily Return</th>\n",
       "    </tr>\n",
       "  </thead>\n",
       "  <tbody>\n",
       "    <tr>\n",
       "      <th>1</th>\n",
       "      <td>2021-01-13</td>\n",
       "      <td>128.759995</td>\n",
       "      <td>131.449997</td>\n",
       "      <td>128.490005</td>\n",
       "      <td>130.889999</td>\n",
       "      <td>130.088028</td>\n",
       "      <td>88636800</td>\n",
       "      <td>0.016227</td>\n",
       "    </tr>\n",
       "    <tr>\n",
       "      <th>2</th>\n",
       "      <td>2021-01-14</td>\n",
       "      <td>130.800003</td>\n",
       "      <td>131.000000</td>\n",
       "      <td>128.759995</td>\n",
       "      <td>128.910004</td>\n",
       "      <td>128.120163</td>\n",
       "      <td>90221800</td>\n",
       "      <td>-0.015127</td>\n",
       "    </tr>\n",
       "    <tr>\n",
       "      <th>3</th>\n",
       "      <td>2021-01-15</td>\n",
       "      <td>128.779999</td>\n",
       "      <td>130.220001</td>\n",
       "      <td>127.000000</td>\n",
       "      <td>127.139999</td>\n",
       "      <td>126.361008</td>\n",
       "      <td>111598500</td>\n",
       "      <td>-0.013731</td>\n",
       "    </tr>\n",
       "    <tr>\n",
       "      <th>4</th>\n",
       "      <td>2021-01-19</td>\n",
       "      <td>127.779999</td>\n",
       "      <td>128.710007</td>\n",
       "      <td>126.940002</td>\n",
       "      <td>127.830002</td>\n",
       "      <td>127.046791</td>\n",
       "      <td>90757300</td>\n",
       "      <td>0.005427</td>\n",
       "    </tr>\n",
       "    <tr>\n",
       "      <th>5</th>\n",
       "      <td>2021-01-20</td>\n",
       "      <td>128.660004</td>\n",
       "      <td>132.490005</td>\n",
       "      <td>128.550003</td>\n",
       "      <td>132.029999</td>\n",
       "      <td>131.221039</td>\n",
       "      <td>104319500</td>\n",
       "      <td>0.032856</td>\n",
       "    </tr>\n",
       "    <tr>\n",
       "      <th>...</th>\n",
       "      <td>...</td>\n",
       "      <td>...</td>\n",
       "      <td>...</td>\n",
       "      <td>...</td>\n",
       "      <td>...</td>\n",
       "      <td>...</td>\n",
       "      <td>...</td>\n",
       "      <td>...</td>\n",
       "    </tr>\n",
       "    <tr>\n",
       "      <th>251</th>\n",
       "      <td>2022-01-10</td>\n",
       "      <td>169.080002</td>\n",
       "      <td>172.500000</td>\n",
       "      <td>168.169998</td>\n",
       "      <td>172.190002</td>\n",
       "      <td>172.190002</td>\n",
       "      <td>106606900</td>\n",
       "      <td>0.000116</td>\n",
       "    </tr>\n",
       "    <tr>\n",
       "      <th>252</th>\n",
       "      <td>2022-01-11</td>\n",
       "      <td>172.320007</td>\n",
       "      <td>175.179993</td>\n",
       "      <td>170.820007</td>\n",
       "      <td>175.080002</td>\n",
       "      <td>175.080002</td>\n",
       "      <td>76138300</td>\n",
       "      <td>0.016784</td>\n",
       "    </tr>\n",
       "    <tr>\n",
       "      <th>253</th>\n",
       "      <td>2022-01-12</td>\n",
       "      <td>176.119995</td>\n",
       "      <td>177.179993</td>\n",
       "      <td>174.820007</td>\n",
       "      <td>175.529999</td>\n",
       "      <td>175.529999</td>\n",
       "      <td>74805200</td>\n",
       "      <td>0.002570</td>\n",
       "    </tr>\n",
       "    <tr>\n",
       "      <th>254</th>\n",
       "      <td>2022-01-13</td>\n",
       "      <td>175.779999</td>\n",
       "      <td>176.619995</td>\n",
       "      <td>171.789993</td>\n",
       "      <td>172.190002</td>\n",
       "      <td>172.190002</td>\n",
       "      <td>84505800</td>\n",
       "      <td>-0.019028</td>\n",
       "    </tr>\n",
       "    <tr>\n",
       "      <th>255</th>\n",
       "      <td>2022-01-14</td>\n",
       "      <td>171.339996</td>\n",
       "      <td>173.779999</td>\n",
       "      <td>171.089996</td>\n",
       "      <td>173.070007</td>\n",
       "      <td>173.070007</td>\n",
       "      <td>80355000</td>\n",
       "      <td>0.005111</td>\n",
       "    </tr>\n",
       "  </tbody>\n",
       "</table>\n",
       "<p>255 rows × 8 columns</p>\n",
       "</div>"
      ],
      "text/plain": [
       "          Date        Open        High         Low       Close   Adj Close  \\\n",
       "1   2021-01-13  128.759995  131.449997  128.490005  130.889999  130.088028   \n",
       "2   2021-01-14  130.800003  131.000000  128.759995  128.910004  128.120163   \n",
       "3   2021-01-15  128.779999  130.220001  127.000000  127.139999  126.361008   \n",
       "4   2021-01-19  127.779999  128.710007  126.940002  127.830002  127.046791   \n",
       "5   2021-01-20  128.660004  132.490005  128.550003  132.029999  131.221039   \n",
       "..         ...         ...         ...         ...         ...         ...   \n",
       "251 2022-01-10  169.080002  172.500000  168.169998  172.190002  172.190002   \n",
       "252 2022-01-11  172.320007  175.179993  170.820007  175.080002  175.080002   \n",
       "253 2022-01-12  176.119995  177.179993  174.820007  175.529999  175.529999   \n",
       "254 2022-01-13  175.779999  176.619995  171.789993  172.190002  172.190002   \n",
       "255 2022-01-14  171.339996  173.779999  171.089996  173.070007  173.070007   \n",
       "\n",
       "        Volume  Daily Return  \n",
       "1     88636800      0.016227  \n",
       "2     90221800     -0.015127  \n",
       "3    111598500     -0.013731  \n",
       "4     90757300      0.005427  \n",
       "5    104319500      0.032856  \n",
       "..         ...           ...  \n",
       "251  106606900      0.000116  \n",
       "252   76138300      0.016784  \n",
       "253   74805200      0.002570  \n",
       "254   84505800     -0.019028  \n",
       "255   80355000      0.005111  \n",
       "\n",
       "[255 rows x 8 columns]"
      ]
     },
     "execution_count": 18,
     "metadata": {},
     "output_type": "execute_result"
    }
   ],
   "source": [
    "Apple_data"
   ]
  },
  {
   "cell_type": "code",
   "execution_count": 19,
   "id": "408baa9b",
   "metadata": {},
   "outputs": [],
   "source": [
    "# Function to calculate the standard deviation. n - Number of observations . \n",
    "# square root of varaince is taken to obtain standard deviation\n",
    "def Deviation(Data):\n",
    "    n = len(Data)\n",
    "    Mean = sum(Data) / n\n",
    "    Deviation = sum([(i - Mean)**2 for i in Data])\n",
    "    # Calculate Variance & Standard Deviation\n",
    "    Variance = Deviation / (n - 1)\n",
    "    SD = Variance**(1/2)\n",
    "    return SD"
   ]
  },
  {
   "cell_type": "code",
   "execution_count": 20,
   "id": "e753b23e",
   "metadata": {},
   "outputs": [],
   "source": [
    "#The Sharpe Ratio tells an analyst the return per unit of risk. \n",
    "#In other words, how much extra return you will receive per unit of risk that you take on.\n",
    "\n",
    "#Setting the risk-free rate to zero is not only for simplicity,\n",
    "#but because any action is inherently risky in some fashion, \n",
    "#especially when you consider receiving a reward\n",
    "def sharpe_ratio(Data, Risk_free_rate=0.0):\n",
    "    # Calculate Average Daily Return\n",
    "    Daily_mean_return = sum(Data) / len(Data)\n",
    "    SD = Deviation(Data)\n",
    "   \n",
    "    Daily_sharpe_ratio = (Daily_mean_return - Risk_free_rate) / SD\n",
    "    # Annualize Daily Sharpe Ratio\n",
    "    Sharpe_ratio = (252**(1/2)) * Daily_sharpe_ratio\n",
    "    \n",
    "    return Sharpe_ratio"
   ]
  },
  {
   "cell_type": "code",
   "execution_count": 21,
   "id": "fcbe541b",
   "metadata": {},
   "outputs": [
    {
     "name": "stdout",
     "output_type": "stream",
     "text": [
      "0.27758194493668215\n"
     ]
    }
   ],
   "source": [
    "amazon_sharpe=sharpe_ratio(Amazon_data['Daily Return'])\n",
    "print(amazon_sharpe)"
   ]
  },
  {
   "cell_type": "code",
   "execution_count": 22,
   "id": "2498d8d2",
   "metadata": {},
   "outputs": [
    {
     "name": "stdout",
     "output_type": "stream",
     "text": [
      "1.3299846707897205\n"
     ]
    }
   ],
   "source": [
    "apple_sharpe=sharpe_ratio(Apple_data['Daily Return'])\n",
    "print(apple_sharpe)"
   ]
  },
  {
   "cell_type": "code",
   "execution_count": null,
   "id": "a6ce2082",
   "metadata": {},
   "outputs": [],
   "source": []
  }
 ],
 "metadata": {
  "kernelspec": {
   "display_name": "Python 3 (ipykernel)",
   "language": "python",
   "name": "python3"
  },
  "language_info": {
   "codemirror_mode": {
    "name": "ipython",
    "version": 3
   },
   "file_extension": ".py",
   "mimetype": "text/x-python",
   "name": "python",
   "nbconvert_exporter": "python",
   "pygments_lexer": "ipython3",
   "version": "3.9.7"
  }
 },
 "nbformat": 4,
 "nbformat_minor": 5
}
